{
 "cells": [
  {
   "cell_type": "markdown",
   "metadata": {},
   "source": [
    "Non-abundant sums\n",
    "Problem 23 \n",
    "\n",
    "A perfect number is a number for which the sum of its proper divisors is exactly equal to the number. For example, the sum of the proper divisors of 28 would be 1 + 2 + 4 + 7 + 14 = 28, which means that 28 is a perfect number.\n",
    "\n",
    "A number n is called deficient if the sum of its proper divisors is less than n and it is called abundant if this sum exceeds n.\n",
    "\n",
    "As 12 is the smallest abundant number, 1 + 2 + 3 + 4 + 6 = 16, the smallest number that can be written as the sum of two abundant numbers is 24. By mathematical analysis, it can be shown that all integers greater than 28123 can be written as the sum of two abundant numbers. However, this upper limit cannot be reduced any further by analysis even though it is known that the greatest number that cannot be expressed as the sum of two abundant numbers is less than this limit.\n",
    "\n",
    "Find the sum of all the positive integers which cannot be written as the sum of two abundant numbers."
   ]
  },
  {
   "cell_type": "markdown",
   "metadata": {},
   "source": [
    "Naive Steps:\n",
    "    - build list of abundant numbers less than 28123\n",
    "    - for each number less than 28123, test if pairs of abundant numbers less than it sum to it"
   ]
  },
  {
   "cell_type": "code",
   "execution_count": 13,
   "metadata": {},
   "outputs": [],
   "source": [
    "import euler\n",
    "\n",
    "def is_abundant(n):\n",
    "    factors = [int(factor) for factor in euler.get_factors(n)]\n",
    "    if sum(factors) > n: # definition of abundant number: factors sum to more than the number\n",
    "        return True\n",
    "    else:\n",
    "        return False"
   ]
  },
  {
   "cell_type": "code",
   "execution_count": 138,
   "metadata": {},
   "outputs": [],
   "source": [
    "abundants = []\n",
    "for i in range(0,28123):\n",
    "    if is_abundant(i):\n",
    "        abundants.append(i)"
   ]
  },
  {
   "cell_type": "code",
   "execution_count": 19,
   "metadata": {},
   "outputs": [
    {
     "data": {
      "text/plain": [
       "[12, 18, 20, 24, 30, 36, 40, 42, 48, 54]"
      ]
     },
     "execution_count": 19,
     "metadata": {},
     "output_type": "execute_result"
    }
   ],
   "source": [
    "abundants[0:10] # seems legit"
   ]
  },
  {
   "cell_type": "code",
   "execution_count": 114,
   "metadata": {},
   "outputs": [
    {
     "name": "stdout",
     "output_type": "stream",
     "text": [
      "[945, 1575, 2205, 2835, 3465, 4095, 4725, 5355, 5775, 5985]\n",
      "[1, 3, 5, 7, 9, 15, 21, 27, 35.0, 45.0, 63.0, 105.0, 135.0, 189.0, 315.0]\n"
     ]
    }
   ],
   "source": [
    "odd_abs = [x for x in abundants if x%2 != 0] # hey look, odd abundant numbers!\n",
    "print(str(odd_abs[0:10]))\n",
    "print(euler.get_factors(945))"
   ]
  },
  {
   "cell_type": "code",
   "execution_count": 117,
   "metadata": {},
   "outputs": [],
   "source": [
    "def gen_pairs(inlist):\n",
    "    loclist = list(inlist) # create a copy of the list to modify\n",
    "    result = []\n",
    "    while len(loclist) > 0:\n",
    "        num = loclist.pop()\n",
    "        result.append((num,num)) # don't forget to include the sums of abundant numbers plus themselves!\n",
    "        for item in loclist:\n",
    "            result.append((item,num)) # all additional pairs of abundant numbers\n",
    "    return result"
   ]
  },
  {
   "cell_type": "code",
   "execution_count": 124,
   "metadata": {},
   "outputs": [
    {
     "data": {
      "text/plain": [
       "123"
      ]
     },
     "execution_count": 124,
     "metadata": {},
     "output_type": "execute_result"
    }
   ],
   "source": [
    "mylist = [1,2,3,5,21,123]\n",
    "mylist.pop()"
   ]
  },
  {
   "cell_type": "code",
   "execution_count": 125,
   "metadata": {},
   "outputs": [
    {
     "data": {
      "text/plain": [
       "[1, 2, 3, 5, 21]"
      ]
     },
     "execution_count": 125,
     "metadata": {},
     "output_type": "execute_result"
    }
   ],
   "source": [
    "mylist"
   ]
  },
  {
   "cell_type": "code",
   "execution_count": 130,
   "metadata": {},
   "outputs": [
    {
     "name": "stdout",
     "output_type": "stream",
     "text": [
      "[(21, 21), (1, 21), (2, 21), (3, 21), (5, 21), (5, 5), (1, 5), (2, 5), (3, 5), (3, 3), (1, 3), (2, 3), (2, 2), (1, 2), (1, 1)]\n",
      "21\n"
     ]
    }
   ],
   "source": [
    "print(str(gen_pairs(mylist)))\n",
    "print(gen_pairs(mylist)[0][1])"
   ]
  },
  {
   "cell_type": "code",
   "execution_count": 131,
   "metadata": {},
   "outputs": [],
   "source": [
    "pairs = gen_pairs(abundants)"
   ]
  },
  {
   "cell_type": "code",
   "execution_count": 132,
   "metadata": {},
   "outputs": [],
   "source": [
    "abundant_sums = []\n",
    "for pair in pairs:\n",
    "    asum = pair[0] + pair[1] # not checking for collision of sums here because I want this to finish quicker\n",
    "    if asum <= 28123:\n",
    "        abundant_sums.append(asum)"
   ]
  },
  {
   "cell_type": "code",
   "execution_count": 133,
   "metadata": {},
   "outputs": [
    {
     "data": {
      "text/plain": [
       "12148815"
      ]
     },
     "execution_count": 133,
     "metadata": {},
     "output_type": "execute_result"
    }
   ],
   "source": [
    "len(abundant_sums)"
   ]
  },
  {
   "cell_type": "code",
   "execution_count": 134,
   "metadata": {},
   "outputs": [],
   "source": [
    "abundant_sums.sort()"
   ]
  },
  {
   "cell_type": "code",
   "execution_count": 135,
   "metadata": {},
   "outputs": [],
   "source": [
    "newlist = [24]\n",
    "for asum in abundant_sums:\n",
    "    if asum != newlist[-1]: # deduplication\n",
    "        newlist.append(asum)\n",
    "abundant_sums = newlist"
   ]
  },
  {
   "cell_type": "code",
   "execution_count": 136,
   "metadata": {},
   "outputs": [
    {
     "data": {
      "text/plain": [
       "26667"
      ]
     },
     "execution_count": 136,
     "metadata": {},
     "output_type": "execute_result"
    }
   ],
   "source": [
    "len(abundant_sums)"
   ]
  },
  {
   "cell_type": "code",
   "execution_count": 137,
   "metadata": {},
   "outputs": [],
   "source": [
    "non_abundant_sums = []\n",
    "for i in range(0,28123):\n",
    "    if i not in abundant_sums: # not abundant sums are the non-abundant sums\n",
    "        non_abundant_sums.append(i)"
   ]
  },
  {
   "cell_type": "code",
   "execution_count": 139,
   "metadata": {},
   "outputs": [
    {
     "data": {
      "text/plain": [
       "1457"
      ]
     },
     "execution_count": 139,
     "metadata": {},
     "output_type": "execute_result"
    }
   ],
   "source": [
    "len(non_abundant_sums)"
   ]
  },
  {
   "cell_type": "code",
   "execution_count": 141,
   "metadata": {},
   "outputs": [
    {
     "name": "stdout",
     "output_type": "stream",
     "text": [
      "Final Answer: 4179871\n"
     ]
    }
   ],
   "source": [
    "print(f'Final Answer: {sum(non_abundant_sums)}')"
   ]
  }
 ],
 "metadata": {
  "kernelspec": {
   "display_name": "Python 3",
   "language": "python",
   "name": "python3"
  },
  "language_info": {
   "codemirror_mode": {
    "name": "ipython",
    "version": 3
   },
   "file_extension": ".py",
   "mimetype": "text/x-python",
   "name": "python",
   "nbconvert_exporter": "python",
   "pygments_lexer": "ipython3",
   "version": "3.6.5"
  }
 },
 "nbformat": 4,
 "nbformat_minor": 2
}

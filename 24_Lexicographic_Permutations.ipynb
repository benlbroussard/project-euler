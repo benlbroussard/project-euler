{
 "cells": [
  {
   "cell_type": "markdown",
   "metadata": {},
   "source": [
    "Lexicographic permutations\n",
    "Problem 24 \n",
    "\n",
    "A permutation is an ordered arrangement of objects. For example, 3124 is one possible permutation of the digits 1, 2, 3 and 4. If all of the permutations are listed numerically or alphabetically, we call it lexicographic order. The lexicographic permutations of 0, 1 and 2 are:\n",
    "\n",
    "012   021   102   120   201   210\n",
    "\n",
    "What is the millionth lexicographic permutation of the digits 0, 1, 2, 3, 4, 5, 6, 7, 8 and 9?"
   ]
  },
  {
   "cell_type": "markdown",
   "metadata": {},
   "source": [
    "89\n",
    "98\n",
    "\n",
    "789\n",
    "798\n",
    "879\n",
    "897\n",
    "978\n",
    "987\n",
    "\n",
    "6789\n",
    "6798\n",
    "6879\n",
    "6897\n",
    "6978\n",
    "6987\n",
    "7689\n",
    "7698\n",
    "7869\n",
    "7896\n",
    "7968\n",
    "7986\n",
    "8679\n",
    "8697\n",
    "8769\n",
    "8796\n",
    "8967\n",
    "8976\n",
    "9678\n",
    "9687\n",
    "9768\n",
    "9786\n",
    "9867\n",
    "9876\n",
    "\n",
    "The pattern is 2!, 3!, 4!, ..."
   ]
  },
  {
   "cell_type": "code",
   "execution_count": 4,
   "metadata": {},
   "outputs": [
    {
     "data": {
      "text/plain": [
       "362880"
      ]
     },
     "execution_count": 4,
     "metadata": {},
     "output_type": "execute_result"
    }
   ],
   "source": [
    "import math\n",
    "math.factorial(9)"
   ]
  },
  {
   "cell_type": "code",
   "execution_count": 7,
   "metadata": {},
   "outputs": [
    {
     "data": {
      "text/plain": [
       "409112"
      ]
     },
     "execution_count": 7,
     "metadata": {},
     "output_type": "execute_result"
    }
   ],
   "source": [
    "# number of permutations prior to 1023456789\n",
    "num_pre_perms = 0\n",
    "for i in range(2,10): # 2,3,4,5,6,7,8,9\n",
    "    num_pre_perms += math.factorial(i)\n",
    "num_pre_perms"
   ]
  },
  {
   "cell_type": "markdown",
   "metadata": {},
   "source": [
    "So there are 409112 permutations of 0#########.<br />\n",
    "There are also 409112 perms of      1#########.<br />\n",
    "That's 818,224, leaving 181,776, so the answer will start with 2.<br />\n"
   ]
  },
  {
   "cell_type": "code",
   "execution_count": 9,
   "metadata": {},
   "outputs": [
    {
     "data": {
      "text/plain": [
       "46232"
      ]
     },
     "execution_count": 9,
     "metadata": {},
     "output_type": "execute_result"
    }
   ],
   "source": [
    "# number of permutations between 2013456789 to 2103456789\n",
    "num_new_perms = 0\n",
    "for i in range(2,9): # 2,3,4,5,6,7,8\n",
    "    num_new_perms += math.factorial(i)\n",
    "num_new_perms"
   ]
  },
  {
   "cell_type": "markdown",
   "metadata": {},
   "source": [
    "So we had 181,776 perms left before getting to 2013456789.<br />\n",
    "We get 46,232 from 2013456789 to 2098765431.<br />\n",
    "Another 46,232 from 2103456789 to 2198765430.<br />\n",
    "And another 46,232 from 2301456789 to 2398765410<br />\n",
    "That totals 138,696, leaving 43,080. The answer will start with 24########"
   ]
  },
  {
   "cell_type": "code",
   "execution_count": 10,
   "metadata": {},
   "outputs": [
    {
     "data": {
      "text/plain": [
       "5912"
      ]
     },
     "execution_count": 10,
     "metadata": {},
     "output_type": "execute_result"
    }
   ],
   "source": [
    "num_new_perms = 0\n",
    "for i in range(2,8): # 2,3,4,5,6,7\n",
    "    num_new_perms += math.factorial(i)\n",
    "num_new_perms"
   ]
  },
  {
   "cell_type": "code",
   "execution_count": 13,
   "metadata": {},
   "outputs": [
    {
     "name": "stdout",
     "output_type": "stream",
     "text": [
      "7\n",
      "1696\n"
     ]
    }
   ],
   "source": [
    "print(math.floor(43080 / 5912))\n",
    "print(43080 - 5912*7)"
   ]
  },
  {
   "cell_type": "markdown",
   "metadata": {},
   "source": [
    "2401356789 to 2409876531 is the first set of 5912.<br />\n",
    "2410... to 2419... is the second.<br />\n",
    "2480135679 to 2489765310 is the seventh set of 5912.<br /> (did this wrong, forgot to skip 242####### revise and continue)\n",
    "The answer will start with 249#######.<br />\n",
    "This leaves 43080 - 5912*7 = 1619."
   ]
  },
  {
   "cell_type": "code",
   "execution_count": 14,
   "metadata": {},
   "outputs": [
    {
     "data": {
      "text/plain": [
       "872"
      ]
     },
     "execution_count": 14,
     "metadata": {},
     "output_type": "execute_result"
    }
   ],
   "source": [
    "num_new_perms = 0\n",
    "for i in range(2,7): # 2,3,4,5,6\n",
    "    num_new_perms += math.factorial(i)\n",
    "num_new_perms"
   ]
  },
  {
   "cell_type": "markdown",
   "metadata": {},
   "source": [
    "2490135678 to 2490876531 uses up 872 bringing the total down to 1619 - 872 = 747.<br />\n",
    "The answer will start with 2491######."
   ]
  },
  {
   "cell_type": "code",
   "execution_count": 17,
   "metadata": {},
   "outputs": [
    {
     "data": {
      "text/plain": [
       "152"
      ]
     },
     "execution_count": 17,
     "metadata": {},
     "output_type": "execute_result"
    }
   ],
   "source": [
    "num_new_perms = 0\n",
    "for i in range(2,6): # 2,3,4,5\n",
    "    num_new_perms += math.factorial(i)\n",
    "num_new_perms"
   ]
  },
  {
   "cell_type": "code",
   "execution_count": 19,
   "metadata": {},
   "outputs": [
    {
     "name": "stdout",
     "output_type": "stream",
     "text": [
      "4\n",
      "139\n"
     ]
    }
   ],
   "source": [
    "print(math.floor(747 / 152))\n",
    "print(747 - 152*4)"
   ]
  },
  {
   "cell_type": "markdown",
   "metadata": {},
   "source": [
    "2491035678 to 2491087653 is first 152. <br />\n",
    "2491305678 to 2491387650 is second 152. <br />\n",
    "2491503678 to 2491587630 is third 152. <br />\n",
    "2491603578 to 2491687530 is fourth 152. <br />\n",
    "139 left over, final answer will start with 24917#####."
   ]
  },
  {
   "cell_type": "code",
   "execution_count": 22,
   "metadata": {},
   "outputs": [
    {
     "name": "stdout",
     "output_type": "stream",
     "text": [
      "32\n"
     ]
    }
   ],
   "source": [
    "num_new_perms = 0\n",
    "for i in range(2,5): # 2,3,4\n",
    "    num_new_perms += math.factorial(i)\n",
    "print(num_new_perms)"
   ]
  },
  {
   "cell_type": "code",
   "execution_count": 24,
   "metadata": {},
   "outputs": [
    {
     "name": "stdout",
     "output_type": "stream",
     "text": [
      "4\n",
      "24\n"
     ]
    }
   ],
   "source": [
    "print(math.floor(152 / 32))\n",
    "print(152 - 32*4)"
   ]
  },
  {
   "cell_type": "markdown",
   "metadata": {},
   "source": [
    "2491703568 to 2491708653 is first 32.<br />\n",
    "2491730568 to 2491738650 is second 32.<br />\n",
    "2491750368 to 2491758630 is third 32.<br />\n",
    "2491760358 to 2491768530 is fourth 32.<br />\n",
    "24 left over, final answer will start with 249178####."
   ]
  },
  {
   "cell_type": "code",
   "execution_count": 26,
   "metadata": {},
   "outputs": [
    {
     "name": "stdout",
     "output_type": "stream",
     "text": [
      "8\n",
      "3.0\n"
     ]
    }
   ],
   "source": [
    "num_new_perms = 0\n",
    "for i in range(2,4): # 2,3\n",
    "    num_new_perms += math.factorial(i)\n",
    "print(num_new_perms)\n",
    "print(str(24/8))"
   ]
  },
  {
   "cell_type": "markdown",
   "metadata": {},
   "source": [
    "2491780356 to 2491780653 is first 8.<br />\n",
    "2491783056 to 2491783650 is second 8.<br />\n",
    "2491785036 to 2491785630 is third 8.<br />\n",
    "The final number should be 2491785630!<br />\n",
    "I got it wrong, but the one before it should be 2491785603 and the one after should be 2491756035.<br />\n",
    "Those were both wrong. Time to brute force it!<br />"
   ]
  },
  {
   "cell_type": "markdown",
   "metadata": {},
   "source": [
    "Plan:\n",
    " - make a list with all permutations\n",
    " - sort it\n",
    " - select the millionth one"
   ]
  },
  {
   "cell_type": "code",
   "execution_count": 53,
   "metadata": {},
   "outputs": [],
   "source": [
    "perms = []\n",
    "def permute(instr): # doesn't return the initial string as one of the permutations\n",
    "    #print(f'instr: {instr}')\n",
    "    if len(instr) == 1: # base case\n",
    "        return [instr]\n",
    "    subperms = []\n",
    "    for i in range(0,len(instr)):\n",
    "        #print(f'letter: {instr[i]}, instr: {instr}')\n",
    "        for subperm in permute(instr[:i] + instr[i+1:]):\n",
    "            #print(f'letter: {instr[i]}, subperm: {subperm}, instr: {instr}')\n",
    "            subperms.append(instr[i] + subperm)\n",
    "    return subperms"
   ]
  },
  {
   "cell_type": "code",
   "execution_count": 57,
   "metadata": {},
   "outputs": [
    {
     "name": "stdout",
     "output_type": "stream",
     "text": [
      "myperms[:10]: ['0123456789', '0123456798', '0123456879', '0123456897', '0123456978', '0123456987', '0123457689', '0123457698', '0123457869', '0123457896']\n"
     ]
    }
   ],
   "source": [
    "mystr = '0123456789'\n",
    "myperms = permute(mystr)\n",
    "print(f'myperms[:10]: {myperms[:10]}')"
   ]
  },
  {
   "cell_type": "code",
   "execution_count": 58,
   "metadata": {},
   "outputs": [
    {
     "name": "stdout",
     "output_type": "stream",
     "text": [
      "Final Answer: 2783915460\n"
     ]
    }
   ],
   "source": [
    "print(f'Final Answer: {myperms[999999]}')"
   ]
  },
  {
   "cell_type": "code",
   "execution_count": 59,
   "metadata": {},
   "outputs": [
    {
     "data": {
      "text/plain": [
       "['abcd',\n",
       " 'abdc',\n",
       " 'acbd',\n",
       " 'acdb',\n",
       " 'adbc',\n",
       " 'adcb',\n",
       " 'bacd',\n",
       " 'badc',\n",
       " 'bcad',\n",
       " 'bcda',\n",
       " 'bdac',\n",
       " 'bdca',\n",
       " 'cabd',\n",
       " 'cadb',\n",
       " 'cbad',\n",
       " 'cbda',\n",
       " 'cdab',\n",
       " 'cdba',\n",
       " 'dabc',\n",
       " 'dacb',\n",
       " 'dbac',\n",
       " 'dbca',\n",
       " 'dcab',\n",
       " 'dcba']"
      ]
     },
     "execution_count": 59,
     "metadata": {},
     "output_type": "execute_result"
    }
   ],
   "source": [
    "mystr = 'abcd'\n",
    "permute(mystr)"
   ]
  },
  {
   "cell_type": "code",
   "execution_count": null,
   "metadata": {},
   "outputs": [],
   "source": []
  }
 ],
 "metadata": {
  "kernelspec": {
   "display_name": "Python 3",
   "language": "python",
   "name": "python3"
  },
  "language_info": {
   "codemirror_mode": {
    "name": "ipython",
    "version": 3
   },
   "file_extension": ".py",
   "mimetype": "text/x-python",
   "name": "python",
   "nbconvert_exporter": "python",
   "pygments_lexer": "ipython3",
   "version": "3.6.5"
  }
 },
 "nbformat": 4,
 "nbformat_minor": 2
}
